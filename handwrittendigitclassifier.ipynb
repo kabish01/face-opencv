{
 "cells": [
  {
   "cell_type": "code",
   "execution_count": 1,
   "metadata": {},
   "outputs": [],
   "source": [
    "import matplotlib.pyplot as plt\n",
    "import numpy as np\n",
    "import pandas as pd\n",
    "\n",
    "from sklearn import datasets\n",
    "from sklearn.tree import DecisionTreeClassifier\n",
    "\n",
    "%matplotlib inline\n"
   ]
  },
  {
   "cell_type": "code",
   "execution_count": 2,
   "metadata": {},
   "outputs": [],
   "source": [
    "digits = datasets.load_digits()"
   ]
  },
  {
   "cell_type": "code",
   "execution_count": 3,
   "metadata": {},
   "outputs": [],
   "source": [
    "x = digits.data\n",
    "y = digits.target"
   ]
  },
  {
   "cell_type": "code",
   "execution_count": 4,
   "metadata": {},
   "outputs": [
    {
     "data": {
      "text/plain": [
       "(1797, 64)"
      ]
     },
     "execution_count": 4,
     "metadata": {},
     "output_type": "execute_result"
    }
   ],
   "source": [
    "x.shape\n"
   ]
  },
  {
   "cell_type": "code",
   "execution_count": 5,
   "metadata": {},
   "outputs": [
    {
     "data": {
      "text/plain": [
       "(1797,)"
      ]
     },
     "execution_count": 5,
     "metadata": {},
     "output_type": "execute_result"
    }
   ],
   "source": [
    "y.shape"
   ]
  },
  {
   "cell_type": "code",
   "execution_count": 6,
   "metadata": {},
   "outputs": [
    {
     "name": "stdout",
     "output_type": "stream",
     "text": [
      "[[ 0.  0.  0. 12.]\n",
      " [13.  5.  0.  0.]\n",
      " [ 0.  0.  0. 11.]\n",
      " [16.  9.  0.  0.]\n",
      " [ 0.  0.  3. 15.]\n",
      " [16.  6.  0.  0.]\n",
      " [ 0.  7. 15. 16.]\n",
      " [16.  2.  0.  0.]\n",
      " [ 0.  0.  1. 16.]\n",
      " [16.  3.  0.  0.]\n",
      " [ 0.  0.  1. 16.]\n",
      " [16.  6.  0.  0.]\n",
      " [ 0.  0.  1. 16.]\n",
      " [16.  6.  0.  0.]\n",
      " [ 0.  0.  0. 11.]\n",
      " [16. 10.  0.  0.]]\n"
     ]
    }
   ],
   "source": [
    "print(x[1].reshape(16,4))"
   ]
  },
  {
   "cell_type": "code",
   "execution_count": 7,
   "metadata": {},
   "outputs": [
    {
     "data": {
      "text/plain": [
       "1"
      ]
     },
     "execution_count": 7,
     "metadata": {},
     "output_type": "execute_result"
    }
   ],
   "source": [
    "y[1]"
   ]
  },
  {
   "cell_type": "code",
   "execution_count": 8,
   "metadata": {},
   "outputs": [
    {
     "name": "stdout",
     "output_type": "stream",
     "text": [
      "[ 0.  0. 10. 14.  8.  1.  0.  0.  0.  2. 16. 14.  6.  1.  0.  0.  0.  0.\n",
      " 15. 15.  8. 15.  0.  0.  0.  0.  5. 16. 16. 10.  0.  0.  0.  0. 12. 15.\n",
      " 15. 12.  0.  0.  0.  4. 16.  6.  4. 16.  6.  0.  0.  8. 16. 10.  8. 16.\n",
      "  8.  0.  0.  1.  8. 12. 14. 12.  1.  0.]\n",
      "8\n"
     ]
    }
   ],
   "source": [
    "print(x[1796])\n",
    "print(y[1796])"
   ]
  },
  {
   "cell_type": "code",
   "execution_count": 9,
   "metadata": {},
   "outputs": [
    {
     "data": {
      "text/plain": [
       "<matplotlib.image.AxesImage at 0x1817e8eda08>"
      ]
     },
     "execution_count": 9,
     "metadata": {},
     "output_type": "execute_result"
    },
    {
     "data": {
      "image/png": "[encoded data removed]",
      "text/plain": [
       "<Figure size 432x288 with 1 Axes>"
      ]
     },
     "metadata": {
      "needs_background": "light"
     },
     "output_type": "display_data"
    }
   ],
   "source": [
    "plt.imshow(x[1].reshape(8,8), cmap=\"gray\")\n"
   ]
  },
  {
   "cell_type": "code",
   "execution_count": 10,
   "metadata": {},
   "outputs": [
    {
     "data": {
      "text/plain": [
       "(1797, 64)"
      ]
     },
     "execution_count": 10,
     "metadata": {},
     "output_type": "execute_result"
    }
   ],
   "source": [
    "x.shape"
   ]
  },
  {
   "cell_type": "code",
   "execution_count": 11,
   "metadata": {},
   "outputs": [],
   "source": [
    "clf = DecisionTreeClassifier()"
   ]
  },
  {
   "cell_type": "code",
   "execution_count": 12,
   "metadata": {},
   "outputs": [
    {
     "data": {
      "text/plain": [
       "DecisionTreeClassifier(class_weight=None, criterion='gini', max_depth=None,\n",
       "                       max_features=None, max_leaf_nodes=None,\n",
       "                       min_impurity_decrease=0.0, min_impurity_split=None,\n",
       "                       min_samples_leaf=1, min_samples_split=2,\n",
       "                       min_weight_fraction_leaf=0.0, presort=False,\n",
       "                       random_state=None, splitter='best')"
      ]
     },
     "execution_count": 12,
     "metadata": {},
     "output_type": "execute_result"
    }
   ],
   "source": [
    "clf.fit(x,y)"
   ]
  },
  {
   "cell_type": "code",
   "execution_count": 13,
   "metadata": {},
   "outputs": [
    {
     "data": {
      "text/plain": [
       "<matplotlib.image.AxesImage at 0x1817e664f48>"
      ]
     },
     "execution_count": 13,
     "metadata": {},
     "output_type": "execute_result"
    },
    {
     "data": {
      "image/png": "[encoded data removed]",
      "text/plain": [
       "<Figure size 432x288 with 1 Axes>"
      ]
     },
     "metadata": {
      "needs_background": "light"
     },
     "output_type": "display_data"
    }
   ],
   "source": [
    "plt.imshow(x[11].reshape(8,8))"
   ]
  },
  {
   "cell_type": "code",
   "execution_count": 14,
   "metadata": {},
   "outputs": [
    {
     "data": {
      "text/plain": [
       "array([1])"
      ]
     },
     "execution_count": 14,
     "metadata": {},
     "output_type": "execute_result"
    }
   ],
   "source": [
    "clf.predict([x[11]])"
   ]
  },
  {
   "cell_type": "code",
   "execution_count": 15,
   "metadata": {
    "collapsed": true
   },
   "outputs": [
    {
     "name": "stdout",
     "output_type": "stream",
     "text": [
      "digraph Tree {\n",
      "node [shape=box] ;\n",
      "0 [label=\"X[36] <= 0.5\\ngini = 0.9\\nsamples = 1797\\nvalue = [178, 182, 177, 183, 181, 182, 181, 179, 174, 180]\"] ;\n",
      "1 [label=\"X[28] <= 2.5\\ngini = 0.547\\nsamples = 275\\nvalue = [174, 0, 4, 1, 6, 25, 5, 0, 3, 57]\"] ;\n",
      "0 -> 1 [labeldistance=2.5, labelangle=45, headlabel=\"True\"] ;\n",
      "2 [label=\"X[21] <= 0.5\\ngini = 0.17\\nsamples = 188\\nvalue = [171, 0, 2, 0, 6, 6, 3, 0, 0, 0]\"] ;\n",
      "1 -> 2 ;\n",
      "3 [label=\"X[60] <= 13.5\\ngini = 0.719\\nsamples = 16\\nvalue = [1, 0, 1, 0, 5, 6, 3, 0, 0, 0]\"] ;\n",
      "2 -> 3 ;\n",
      "4 [label=\"gini = 0.0\\nsamples = 6\\nvalue = [0, 0, 0, 0, 0, 6, 0, 0, 0, 0]\"] ;\n",
      "3 -> 4 ;\n",
      "5 [label=\"X[29] <= 1.0\\ngini = 0.64\\nsamples = 10\\nvalue = [1, 0, 1, 0, 5, 0, 3, 0, 0, 0]\"] ;\n",
      "3 -> 5 ;\n",
      "6 [label=\"X[62] <= 3.5\\ngini = 0.56\\nsamples = 5\\nvalue = [1, 0, 1, 0, 0, 0, 3, 0, 0, 0]\"] ;\n",
      "5 -> 6 ;\n",
      "7 [label=\"X[50] <= 15.5\\ngini = 0.5\\nsamples = 2\\nvalue = [1, 0, 1, 0, 0, 0, 0, 0, 0, 0]\"] ;\n",
      "6 -> 7 ;\n",
      "8 [label=\"gini = 0.0\\nsamples = 1\\nvalue = [1, 0, 0, 0, 0, 0, 0, 0, 0, 0]\"] ;\n",
      "7 -> 8 ;\n",
      "9 [label=\"gini = 0.0\\nsamples = 1\\nvalue = [0, 0, 1, 0, 0, 0, 0, 0, 0, 0]\"] ;\n",
      "7 -> 9 ;\n",
      "10 [label=\"gini = 0.0\\nsamples = 3\\nvalue = [0, 0, 0, 0, 0, 0, 3, 0, 0, 0]\"] ;\n",
      "6 -> 10 ;\n",
      "11 [label=\"gini = 0.0\\nsamples = 5\\nvalue = [0, 0, 0, 0, 5, 0, 0, 0, 0, 0]\"] ;\n",
      "5 -> 11 ;\n",
      "12 [label=\"X[26] <= 2.0\\ngini = 0.023\\nsamples = 172\\nvalue = [170, 0, 1, 0, 1, 0, 0, 0, 0, 0]\"] ;\n",
      "2 -> 12 ;\n",
      "13 [label=\"gini = 0.0\\nsamples = 1\\nvalue = [0, 0, 1, 0, 0, 0, 0, 0, 0, 0]\"] ;\n",
      "12 -> 13 ;\n",
      "14 [label=\"X[44] <= 12.5\\ngini = 0.012\\nsamples = 171\\nvalue = [170, 0, 0, 0, 1, 0, 0, 0, 0, 0]\"] ;\n",
      "12 -> 14 ;\n",
      "15 [label=\"gini = 0.0\\nsamples = 170\\nvalue = [170, 0, 0, 0, 0, 0, 0, 0, 0, 0]\"] ;\n",
      "14 -> 15 ;\n",
      "16 [label=\"gini = 0.0\\nsamples = 1\\nvalue = [0, 0, 0, 0, 1, 0, 0, 0, 0, 0]\"] ;\n",
      "14 -> 16 ;\n",
      "17 [label=\"X[21] <= 6.5\\ngini = 0.519\\nsamples = 87\\nvalue = [3, 0, 2, 1, 0, 19, 2, 0, 3, 57]\"] ;\n",
      "1 -> 17 ;\n",
      "18 [label=\"X[51] <= 9.5\\ngini = 0.384\\nsamples = 22\\nvalue = [0, 0, 2, 0, 0, 17, 2, 0, 0, 1]\"] ;\n",
      "17 -> 18 ;\n",
      "19 [label=\"X[20] <= 12.5\\ngini = 0.105\\nsamples = 18\\nvalue = [0, 0, 0, 0, 0, 17, 0, 0, 0, 1]\"] ;\n",
      "18 -> 19 ;\n",
      "20 [label=\"gini = 0.0\\nsamples = 17\\nvalue = [0, 0, 0, 0, 0, 17, 0, 0, 0, 0]\"] ;\n",
      "19 -> 20 ;\n",
      "21 [label=\"gini = 0.0\\nsamples = 1\\nvalue = [0, 0, 0, 0, 0, 0, 0, 0, 0, 1]\"] ;\n",
      "19 -> 21 ;\n",
      "22 [label=\"X[53] <= 13.0\\ngini = 0.5\\nsamples = 4\\nvalue = [0, 0, 2, 0, 0, 0, 2, 0, 0, 0]\"] ;\n",
      "18 -> 22 ;\n",
      "23 [label=\"gini = 0.0\\nsamples = 2\\nvalue = [0, 0, 2, 0, 0, 0, 0, 0, 0, 0]\"] ;\n",
      "22 -> 23 ;\n",
      "24 [label=\"gini = 0.0\\nsamples = 2\\nvalue = [0, 0, 0, 0, 0, 0, 2, 0, 0, 0]\"] ;\n",
      "22 -> 24 ;\n",
      "25 [label=\"X[34] <= 7.5\\ngini = 0.252\\nsamples = 65\\nvalue = [3, 0, 0, 1, 0, 2, 0, 0, 3, 56]\"] ;\n",
      "17 -> 25 ;\n",
      "26 [label=\"X[27] <= 1.5\\ngini = 0.034\\nsamples = 57\\nvalue = [0, 0, 0, 1, 0, 0, 0, 0, 0, 56]\"] ;\n",
      "25 -> 26 ;\n",
      "27 [label=\"gini = 0.0\\nsamples = 1\\nvalue = [0, 0, 0, 1, 0, 0, 0, 0, 0, 0]\"] ;\n",
      "26 -> 27 ;\n",
      "28 [label=\"gini = 0.0\\nsamples = 56\\nvalue = [0, 0, 0, 0, 0, 0, 0, 0, 0, 56]\"] ;\n",
      "26 -> 28 ;\n",
      "29 [label=\"X[37] <= 3.5\\ngini = 0.656\\nsamples = 8\\nvalue = [3, 0, 0, 0, 0, 2, 0, 0, 3, 0]\"] ;\n",
      "25 -> 29 ;\n",
      "30 [label=\"gini = 0.0\\nsamples = 3\\nvalue = [0, 0, 0, 0, 0, 0, 0, 0, 3, 0]\"] ;\n",
      "29 -> 30 ;\n",
      "31 [label=\"X[19] <= 5.0\\ngini = 0.48\\nsamples = 5\\nvalue = [3, 0, 0, 0, 0, 2, 0, 0, 0, 0]\"] ;\n",
      "29 -> 31 ;\n",
      "32 [label=\"gini = 0.0\\nsamples = 2\\nvalue = [0, 0, 0, 0, 0, 2, 0, 0, 0, 0]\"] ;\n",
      "31 -> 32 ;\n",
      "33 [label=\"gini = 0.0\\nsamples = 3\\nvalue = [3, 0, 0, 0, 0, 0, 0, 0, 0, 0]\"] ;\n",
      "31 -> 33 ;\n",
      "34 [label=\"X[21] <= 0.5\\ngini = 0.888\\nsamples = 1522\\nvalue = [4, 182, 173, 182, 175, 157, 176, 179, 171, 123]\"] ;\n",
      "0 -> 34 [labeldistance=2.5, labelangle=-45, headlabel=\"False\"] ;\n",
      "35 [label=\"X[42] <= 8.5\\ngini = 0.74\\nsamples = 464\\nvalue = [0, 43, 46, 15, 33, 145, 172, 6, 3, 1]\"] ;\n",
      "34 -> 35 ;\n",
      "36 [label=\"X[5] <= 1.5\\ngini = 0.621\\nsamples = 246\\nvalue = [0, 35, 35, 15, 7, 142, 3, 5, 3, 1]\"] ;\n",
      "35 -> 36 ;\n",
      "37 [label=\"X[19] <= 13.5\\ngini = 0.735\\nsamples = 101\\nvalue = [0, 35, 35, 14, 5, 2, 3, 4, 2, 1]\"] ;\n",
      "36 -> 37 ;\n",
      "38 [label=\"X[37] <= 4.0\\ngini = 0.651\\nsamples = 61\\nvalue = [0, 3, 33, 13, 2, 2, 1, 4, 2, 1]\"] ;\n",
      "37 -> 38 ;\n",
      "39 [label=\"X[58] <= 0.5\\ngini = 0.197\\nsamples = 37\\nvalue = [0, 3, 33, 0, 0, 0, 0, 0, 1, 0]\"] ;\n",
      "38 -> 39 ;\n",
      "40 [label=\"X[2] <= 1.0\\ngini = 0.375\\nsamples = 4\\nvalue = [0, 3, 0, 0, 0, 0, 0, 0, 1, 0]\"] ;\n",
      "39 -> 40 ;\n",
      "41 [label=\"gini = 0.0\\nsamples = 3\\nvalue = [0, 3, 0, 0, 0, 0, 0, 0, 0, 0]\"] ;\n",
      "40 -> 41 ;\n",
      "42 [label=\"gini = 0.0\\nsamples = 1\\nvalue = [0, 0, 0, 0, 0, 0, 0, 0, 1, 0]\"] ;\n",
      "40 -> 42 ;\n",
      "43 [label=\"gini = 0.0\\nsamples = 33\\nvalue = [0, 0, 33, 0, 0, 0, 0, 0, 0, 0]\"] ;\n",
      "39 -> 43 ;\n",
      "44 [label=\"X[43] <= 5.5\\ngini = 0.66\\nsamples = 24\\nvalue = [0, 0, 0, 13, 2, 2, 1, 4, 1, 1]\"] ;\n",
      "38 -> 44 ;\n",
      "45 [label=\"X[26] <= 12.5\\ngini = 0.32\\nsamples = 16\\nvalue = [0, 0, 0, 13, 0, 2, 0, 0, 0, 1]\"] ;\n",
      "44 -> 45 ;\n",
      "46 [label=\"gini = 0.0\\nsamples = 13\\nvalue = [0, 0, 0, 13, 0, 0, 0, 0, 0, 0]\"] ;\n",
      "45 -> 46 ;\n",
      "47 [label=\"X[25] <= 3.0\\ngini = 0.444\\nsamples = 3\\nvalue = [0, 0, 0, 0, 0, 2, 0, 0, 0, 1]\"] ;\n",
      "45 -> 47 ;\n",
      "48 [label=\"gini = 0.0\\nsamples = 1\\nvalue = [0, 0, 0, 0, 0, 0, 0, 0, 0, 1]\"] ;\n",
      "47 -> 48 ;\n",
      "49 [label=\"gini = 0.0\\nsamples = 2\\nvalue = [0, 0, 0, 0, 0, 2, 0, 0, 0, 0]\"] ;\n",
      "47 -> 49 ;\n",
      "50 [label=\"X[20] <= 10.5\\ngini = 0.656\\nsamples = 8\\nvalue = [0, 0, 0, 0, 2, 0, 1, 4, 1, 0]\"] ;\n",
      "44 -> 50 ;\n",
      "51 [label=\"X[54] <= 3.5\\ngini = 0.625\\nsamples = 4\\nvalue = [0, 0, 0, 0, 2, 0, 1, 0, 1, 0]\"] ;\n",
      "50 -> 51 ;\n",
      "52 [label=\"gini = 0.0\\nsamples = 2\\nvalue = [0, 0, 0, 0, 2, 0, 0, 0, 0, 0]\"] ;\n",
      "51 -> 52 ;\n",
      "53 [label=\"X[36] <= 15.5\\ngini = 0.5\\nsamples = 2\\nvalue = [0, 0, 0, 0, 0, 0, 1, 0, 1, 0]\"] ;\n",
      "51 -> 53 ;\n",
      "54 [label=\"gini = 0.0\\nsamples = 1\\nvalue = [0, 0, 0, 0, 0, 0, 0, 0, 1, 0]\"] ;\n",
      "53 -> 54 ;\n",
      "55 [label=\"gini = 0.0\\nsamples = 1\\nvalue = [0, 0, 0, 0, 0, 0, 1, 0, 0, 0]\"] ;\n",
      "53 -> 55 ;\n",
      "56 [label=\"gini = 0.0\\nsamples = 4\\nvalue = [0, 0, 0, 0, 0, 0, 0, 4, 0, 0]\"] ;\n",
      "50 -> 56 ;\n",
      "57 [label=\"X[46] <= 0.5\\ngini = 0.349\\nsamples = 40\\nvalue = [0, 32, 2, 1, 3, 0, 2, 0, 0, 0]\"] ;\n",
      "37 -> 57 ;\n",
      "58 [label=\"X[27] <= 10.5\\ngini = 0.112\\nsamples = 34\\nvalue = [0, 32, 1, 0, 1, 0, 0, 0, 0, 0]\"] ;\n",
      "57 -> 58 ;\n",
      "59 [label=\"X[33] <= 3.5\\ngini = 0.5\\nsamples = 2\\nvalue = [0, 0, 1, 0, 1, 0, 0, 0, 0, 0]\"] ;\n",
      "58 -> 59 ;\n",
      "60 [label=\"gini = 0.0\\nsamples = 1\\nvalue = [0, 0, 1, 0, 0, 0, 0, 0, 0, 0]\"] ;\n",
      "59 -> 60 ;\n",
      "61 [label=\"gini = 0.0\\nsamples = 1\\nvalue = [0, 0, 0, 0, 1, 0, 0, 0, 0, 0]\"] ;\n",
      "59 -> 61 ;\n",
      "62 [label=\"gini = 0.0\\nsamples = 32\\nvalue = [0, 32, 0, 0, 0, 0, 0, 0, 0, 0]\"] ;\n",
      "58 -> 62 ;\n",
      "63 [label=\"X[51] <= 15.5\\ngini = 0.722\\nsamples = 6\\nvalue = [0, 0, 1, 1, 2, 0, 2, 0, 0, 0]\"] ;\n",
      "57 -> 63 ;\n",
      "64 [label=\"X[54] <= 5.5\\ngini = 0.625\\nsamples = 4\\nvalue = [0, 0, 1, 1, 2, 0, 0, 0, 0, 0]\"] ;\n",
      "63 -> 64 ;\n",
      "65 [label=\"gini = 0.0\\nsamples = 2\\nvalue = [0, 0, 0, 0, 2, 0, 0, 0, 0, 0]\"] ;\n",
      "64 -> 65 ;\n",
      "66 [label=\"X[44] <= 2.5\\ngini = 0.5\\nsamples = 2\\nvalue = [0, 0, 1, 1, 0, 0, 0, 0, 0, 0]\"] ;\n",
      "64 -> 66 ;\n",
      "67 [label=\"gini = 0.0\\nsamples = 1\\nvalue = [0, 0, 0, 1, 0, 0, 0, 0, 0, 0]\"] ;\n",
      "66 -> 67 ;\n",
      "68 [label=\"gini = 0.0\\nsamples = 1\\nvalue = [0, 0, 1, 0, 0, 0, 0, 0, 0, 0]\"] ;\n",
      "66 -> 68 ;\n",
      "69 [label=\"gini = 0.0\\nsamples = 2\\nvalue = [0, 0, 0, 0, 0, 0, 2, 0, 0, 0]\"] ;\n",
      "63 -> 69 ;\n",
      "70 [label=\"X[18] <= 4.5\\ngini = 0.067\\nsamples = 145\\nvalue = [0, 0, 0, 1, 2, 140, 0, 1, 1, 0]\"] ;\n",
      "36 -> 70 ;\n",
      "71 [label=\"X[61] <= 3.0\\ngini = 0.667\\nsamples = 3\\nvalue = [0, 0, 0, 1, 1, 0, 0, 1, 0, 0]\"] ;\n",
      "70 -> 71 ;\n",
      "72 [label=\"gini = 0.0\\nsamples = 1\\nvalue = [0, 0, 0, 0, 0, 0, 0, 1, 0, 0]\"] ;\n",
      "71 -> 72 ;\n",
      "73 [label=\"X[26] <= 12.0\\ngini = 0.5\\nsamples = 2\\nvalue = [0, 0, 0, 1, 1, 0, 0, 0, 0, 0]\"] ;\n",
      "71 -> 73 ;\n",
      "74 [label=\"gini = 0.0\\nsamples = 1\\nvalue = [0, 0, 0, 1, 0, 0, 0, 0, 0, 0]\"] ;\n",
      "73 -> 74 ;\n",
      "75 [label=\"gini = 0.0\\nsamples = 1\\nvalue = [0, 0, 0, 0, 1, 0, 0, 0, 0, 0]\"] ;\n",
      "73 -> 75 ;\n",
      "76 [label=\"X[8] <= 1.5\\ngini = 0.028\\nsamples = 142\\nvalue = [0, 0, 0, 0, 1, 140, 0, 0, 1, 0]\"] ;\n",
      "70 -> 76 ;\n",
      "77 [label=\"X[24] <= 0.5\\ngini = 0.014\\nsamples = 141\\nvalue = [0, 0, 0, 0, 1, 140, 0, 0, 0, 0]\"] ;\n",
      "76 -> 77 ;\n",
      "78 [label=\"gini = 0.0\\nsamples = 140\\nvalue = [0, 0, 0, 0, 0, 140, 0, 0, 0, 0]\"] ;\n",
      "77 -> 78 ;\n",
      "79 [label=\"gini = 0.0\\nsamples = 1\\nvalue = [0, 0, 0, 0, 1, 0, 0, 0, 0, 0]\"] ;\n",
      "77 -> 79 ;\n",
      "80 [label=\"gini = 0.0\\nsamples = 1\\nvalue = [0, 0, 0, 0, 0, 0, 0, 0, 1, 0]\"] ;\n",
      "76 -> 80 ;\n",
      "81 [label=\"X[54] <= 1.5\\ngini = 0.381\\nsamples = 218\\nvalue = [0, 8, 11, 0, 26, 3, 169, 1, 0, 0]\"] ;\n",
      "35 -> 81 ;\n",
      "82 [label=\"X[10] <= 5.5\\ngini = 0.636\\nsamples = 47\\nvalue = [0, 8, 2, 0, 26, 3, 7, 1, 0, 0]\"] ;\n",
      "81 -> 82 ;\n",
      "83 [label=\"X[41] <= 1.5\\ngini = 0.145\\nsamples = 26\\nvalue = [0, 1, 0, 0, 24, 0, 1, 0, 0, 0]\"] ;\n",
      "82 -> 83 ;\n",
      "84 [label=\"X[3] <= 10.0\\ngini = 0.5\\nsamples = 2\\nvalue = [0, 1, 0, 0, 0, 0, 1, 0, 0, 0]\"] ;\n",
      "83 -> 84 ;\n",
      "85 [label=\"gini = 0.0\\nsamples = 1\\nvalue = [0, 0, 0, 0, 0, 0, 1, 0, 0, 0]\"] ;\n",
      "84 -> 85 ;\n",
      "86 [label=\"gini = 0.0\\nsamples = 1\\nvalue = [0, 1, 0, 0, 0, 0, 0, 0, 0, 0]\"] ;\n",
      "84 -> 86 ;\n",
      "87 [label=\"gini = 0.0\\nsamples = 24\\nvalue = [0, 0, 0, 0, 24, 0, 0, 0, 0, 0]\"] ;\n",
      "83 -> 87 ;\n",
      "88 [label=\"X[45] <= 1.5\\ngini = 0.766\\nsamples = 21\\nvalue = [0, 7, 2, 0, 2, 3, 6, 1, 0, 0]\"] ;\n",
      "82 -> 88 ;\n",
      "89 [label=\"X[62] <= 1.5\\ngini = 0.346\\nsamples = 9\\nvalue = [0, 7, 2, 0, 0, 0, 0, 0, 0, 0]\"] ;\n",
      "88 -> 89 ;\n",
      "90 [label=\"gini = 0.0\\nsamples = 7\\nvalue = [0, 7, 0, 0, 0, 0, 0, 0, 0, 0]\"] ;\n",
      "89 -> 90 ;\n",
      "91 [label=\"gini = 0.0\\nsamples = 2\\nvalue = [0, 0, 2, 0, 0, 0, 0, 0, 0, 0]\"] ;\n",
      "89 -> 91 ;\n",
      "92 [label=\"X[50] <= 6.0\\ngini = 0.653\\nsamples = 12\\nvalue = [0, 0, 0, 0, 2, 3, 6, 1, 0, 0]\"] ;\n",
      "88 -> 92 ;\n",
      "93 [label=\"X[4] <= 11.5\\ngini = 0.48\\nsamples = 5\\nvalue = [0, 0, 0, 0, 2, 3, 0, 0, 0, 0]\"] ;\n",
      "92 -> 93 ;\n",
      "94 [label=\"gini = 0.0\\nsamples = 2\\nvalue = [0, 0, 0, 0, 2, 0, 0, 0, 0, 0]\"] ;\n",
      "93 -> 94 ;\n",
      "95 [label=\"gini = 0.0\\nsamples = 3\\nvalue = [0, 0, 0, 0, 0, 3, 0, 0, 0, 0]\"] ;\n",
      "93 -> 95 ;\n",
      "96 [label=\"X[34] <= 13.5\\ngini = 0.245\\nsamples = 7\\nvalue = [0, 0, 0, 0, 0, 0, 6, 1, 0, 0]\"] ;\n",
      "92 -> 96 ;\n",
      "97 [label=\"gini = 0.0\\nsamples = 1\\nvalue = [0, 0, 0, 0, 0, 0, 0, 1, 0, 0]\"] ;\n",
      "96 -> 97 ;\n",
      "98 [label=\"gini = 0.0\\nsamples = 6\\nvalue = [0, 0, 0, 0, 0, 0, 6, 0, 0, 0]\"] ;\n",
      "96 -> 98 ;\n",
      "99 [label=\"X[2] <= 10.0\\ngini = 0.1\\nsamples = 171\\nvalue = [0, 0, 9, 0, 0, 0, 162, 0, 0, 0]\"] ;\n",
      "81 -> 99 ;\n",
      "100 [label=\"gini = 0.0\\nsamples = 162\\nvalue = [0, 0, 0, 0, 0, 0, 162, 0, 0, 0]\"] ;\n",
      "99 -> 100 ;\n",
      "101 [label=\"gini = 0.0\\nsamples = 9\\nvalue = [0, 0, 9, 0, 0, 0, 0, 0, 0, 0]\"] ;\n",
      "99 -> 101 ;\n",
      "102 [label=\"X[60] <= 7.5\\ngini = 0.86\\nsamples = 1058\\nvalue = [4, 139, 127, 167, 142, 12, 4, 173, 168, 122]\"] ;\n",
      "34 -> 102 ;\n",
      "103 [label=\"X[5] <= 0.5\\ngini = 0.552\\nsamples = 247\\nvalue = [0, 11, 6, 10, 28, 4, 0, 161, 11, 16]\"] ;\n",
      "102 -> 103 ;\n",
      "104 [label=\"X[12] <= 7.5\\ngini = 0.627\\nsamples = 45\\nvalue = [0, 2, 5, 0, 26, 2, 0, 6, 3, 1]\"] ;\n",
      "103 -> 104 ;\n",
      "105 [label=\"gini = 0.0\\nsamples = 26\\nvalue = [0, 0, 0, 0, 26, 0, 0, 0, 0, 0]\"] ;\n",
      "104 -> 105 ;\n",
      "106 [label=\"X[53] <= 10.5\\ngini = 0.781\\nsamples = 19\\nvalue = [0, 2, 5, 0, 0, 2, 0, 6, 3, 1]\"] ;\n",
      "104 -> 106 ;\n",
      "107 [label=\"X[60] <= 1.5\\ngini = 0.698\\nsamples = 13\\nvalue = [0, 1, 0, 0, 0, 2, 0, 6, 3, 1]\"] ;\n",
      "106 -> 107 ;\n",
      "108 [label=\"gini = 0.0\\nsamples = 6\\nvalue = [0, 0, 0, 0, 0, 0, 0, 6, 0, 0]\"] ;\n",
      "107 -> 108 ;\n",
      "109 [label=\"X[50] <= 9.0\\ngini = 0.694\\nsamples = 7\\nvalue = [0, 1, 0, 0, 0, 2, 0, 0, 3, 1]\"] ;\n",
      "107 -> 109 ;\n",
      "110 [label=\"X[3] <= 13.5\\ngini = 0.625\\nsamples = 4\\nvalue = [0, 1, 0, 0, 0, 2, 0, 0, 0, 1]\"] ;\n",
      "109 -> 110 ;\n",
      "111 [label=\"gini = 0.0\\nsamples = 2\\nvalue = [0, 0, 0, 0, 0, 2, 0, 0, 0, 0]\"] ;\n",
      "110 -> 111 ;\n",
      "112 [label=\"X[63] <= 0.5\\ngini = 0.5\\nsamples = 2\\nvalue = [0, 1, 0, 0, 0, 0, 0, 0, 0, 1]\"] ;\n",
      "110 -> 112 ;\n",
      "113 [label=\"gini = 0.0\\nsamples = 1\\nvalue = [0, 1, 0, 0, 0, 0, 0, 0, 0, 0]\"] ;\n",
      "112 -> 113 ;\n",
      "114 [label=\"gini = 0.0\\nsamples = 1\\nvalue = [0, 0, 0, 0, 0, 0, 0, 0, 0, 1]\"] ;\n",
      "112 -> 114 ;\n",
      "115 [label=\"gini = 0.0\\nsamples = 3\\nvalue = [0, 0, 0, 0, 0, 0, 0, 0, 3, 0]\"] ;\n",
      "109 -> 115 ;\n",
      "116 [label=\"X[2] <= 1.0\\ngini = 0.278\\nsamples = 6\\nvalue = [0, 1, 5, 0, 0, 0, 0, 0, 0, 0]\"] ;\n",
      "106 -> 116 ;\n",
      "117 [label=\"gini = 0.0\\nsamples = 1\\nvalue = [0, 1, 0, 0, 0, 0, 0, 0, 0, 0]\"] ;\n",
      "116 -> 117 ;\n",
      "118 [label=\"gini = 0.0\\nsamples = 5\\nvalue = [0, 0, 5, 0, 0, 0, 0, 0, 0, 0]\"] ;\n",
      "116 -> 118 ;\n",
      "119 [label=\"X[53] <= 3.5\\ngini = 0.399\\nsamples = 202\\nvalue = [0, 9, 1, 10, 2, 2, 0, 155, 8, 15]\"] ;\n",
      "103 -> 119 ;\n",
      "120 [label=\"X[37] <= 0.5\\ngini = 0.269\\nsamples = 182\\nvalue = [0, 3, 0, 4, 2, 1, 0, 155, 6, 11]\"] ;\n",
      "119 -> 120 ;\n",
      "121 [label=\"X[52] <= 1.0\\ngini = 0.79\\nsamples = 18\\nvalue = [0, 3, 0, 3, 0, 0, 0, 4, 5, 3]\"] ;\n",
      "120 -> 121 ;\n",
      "122 [label=\"gini = 0.0\\nsamples = 4\\nvalue = [0, 0, 0, 0, 0, 0, 0, 4, 0, 0]\"] ;\n",
      "121 -> 122 ;\n",
      "123 [label=\"X[20] <= 11.5\\ngini = 0.735\\nsamples = 14\\nvalue = [0, 3, 0, 3, 0, 0, 0, 0, 5, 3]\"] ;\n",
      "121 -> 123 ;\n",
      "124 [label=\"X[36] <= 14.0\\ngini = 0.278\\nsamples = 6\\nvalue = [0, 0, 0, 0, 0, 0, 0, 0, 5, 1]\"] ;\n",
      "123 -> 124 ;\n",
      "125 [label=\"gini = 0.0\\nsamples = 5\\nvalue = [0, 0, 0, 0, 0, 0, 0, 0, 5, 0]\"] ;\n",
      "124 -> 125 ;\n",
      "126 [label=\"gini = 0.0\\nsamples = 1\\nvalue = [0, 0, 0, 0, 0, 0, 0, 0, 0, 1]\"] ;\n",
      "124 -> 126 ;\n",
      "127 [label=\"X[34] <= 9.5\\ngini = 0.656\\nsamples = 8\\nvalue = [0, 3, 0, 3, 0, 0, 0, 0, 0, 2]\"] ;\n",
      "123 -> 127 ;\n",
      "128 [label=\"X[52] <= 8.5\\ngini = 0.48\\nsamples = 5\\nvalue = [0, 0, 0, 3, 0, 0, 0, 0, 0, 2]\"] ;\n",
      "127 -> 128 ;\n",
      "129 [label=\"gini = 0.0\\nsamples = 2\\nvalue = [0, 0, 0, 0, 0, 0, 0, 0, 0, 2]\"] ;\n",
      "128 -> 129 ;\n",
      "130 [label=\"gini = 0.0\\nsamples = 3\\nvalue = [0, 0, 0, 3, 0, 0, 0, 0, 0, 0]\"] ;\n",
      "128 -> 130 ;\n",
      "131 [label=\"gini = 0.0\\nsamples = 3\\nvalue = [0, 3, 0, 0, 0, 0, 0, 0, 0, 0]\"] ;\n",
      "127 -> 131 ;\n",
      "132 [label=\"X[26] <= 12.5\\ngini = 0.15\\nsamples = 164\\nvalue = [0, 0, 0, 1, 2, 1, 0, 151, 1, 8]\"] ;\n",
      "120 -> 132 ;\n",
      "133 [label=\"X[51] <= 2.5\\ngini = 0.028\\nsamples = 142\\nvalue = [0, 0, 0, 1, 0, 0, 0, 140, 1, 0]\"] ;\n",
      "132 -> 133 ;\n",
      "134 [label=\"gini = 0.0\\nsamples = 1\\nvalue = [0, 0, 0, 1, 0, 0, 0, 0, 0, 0]\"] ;\n",
      "133 -> 134 ;\n",
      "135 [label=\"X[19] <= 12.5\\ngini = 0.014\\nsamples = 141\\nvalue = [0, 0, 0, 0, 0, 0, 0, 140, 1, 0]\"] ;\n",
      "133 -> 135 ;\n",
      "136 [label=\"gini = 0.0\\nsamples = 140\\nvalue = [0, 0, 0, 0, 0, 0, 0, 140, 0, 0]\"] ;\n",
      "135 -> 136 ;\n",
      "137 [label=\"gini = 0.0\\nsamples = 1\\nvalue = [0, 0, 0, 0, 0, 0, 0, 0, 1, 0]\"] ;\n",
      "135 -> 137 ;\n",
      "138 [label=\"X[17] <= 1.5\\ngini = 0.607\\nsamples = 22\\nvalue = [0, 0, 0, 0, 2, 1, 0, 11, 0, 8]\"] ;\n",
      "132 -> 138 ;\n",
      "139 [label=\"gini = 0.0\\nsamples = 10\\nvalue = [0, 0, 0, 0, 0, 0, 0, 10, 0, 0]\"] ;\n",
      "138 -> 139 ;\n",
      "140 [label=\"X[42] <= 0.5\\ngini = 0.514\\nsamples = 12\\nvalue = [0, 0, 0, 0, 2, 1, 0, 1, 0, 8]\"] ;\n",
      "138 -> 140 ;\n",
      "141 [label=\"X[58] <= 12.5\\ngini = 0.198\\nsamples = 9\\nvalue = [0, 0, 0, 0, 0, 1, 0, 0, 0, 8]\"] ;\n",
      "140 -> 141 ;\n",
      "142 [label=\"gini = 0.0\\nsamples = 8\\nvalue = [0, 0, 0, 0, 0, 0, 0, 0, 0, 8]\"] ;\n",
      "141 -> 142 ;\n",
      "143 [label=\"gini = 0.0\\nsamples = 1\\nvalue = [0, 0, 0, 0, 0, 1, 0, 0, 0, 0]\"] ;\n",
      "141 -> 143 ;\n",
      "144 [label=\"X[4] <= 10.0\\ngini = 0.444\\nsamples = 3\\nvalue = [0, 0, 0, 0, 2, 0, 0, 1, 0, 0]\"] ;\n",
      "140 -> 144 ;\n",
      "145 [label=\"gini = 0.0\\nsamples = 2\\nvalue = [0, 0, 0, 0, 2, 0, 0, 0, 0, 0]\"] ;\n",
      "144 -> 145 ;\n",
      "146 [label=\"gini = 0.0\\nsamples = 1\\nvalue = [0, 0, 0, 0, 0, 0, 0, 1, 0, 0]\"] ;\n",
      "144 -> 146 ;\n",
      "147 [label=\"X[61] <= 12.5\\ngini = 0.765\\nsamples = 20\\nvalue = [0, 6, 1, 6, 0, 1, 0, 0, 2, 4]\"] ;\n",
      "119 -> 147 ;\n",
      "148 [label=\"X[18] <= 1.0\\ngini = 0.704\\nsamples = 14\\nvalue = [0, 0, 1, 6, 0, 1, 0, 0, 2, 4]\"] ;\n",
      "147 -> 148 ;\n",
      "149 [label=\"gini = 0.0\\nsamples = 6\\nvalue = [0, 0, 0, 6, 0, 0, 0, 0, 0, 0]\"] ;\n",
      "148 -> 149 ;\n",
      "150 [label=\"X[44] <= 5.5\\ngini = 0.656\\nsamples = 8\\nvalue = [0, 0, 1, 0, 0, 1, 0, 0, 2, 4]\"] ;\n",
      "148 -> 150 ;\n",
      "151 [label=\"gini = 0.0\\nsamples = 4\\nvalue = [0, 0, 0, 0, 0, 0, 0, 0, 0, 4]\"] ;\n",
      "150 -> 151 ;\n",
      "152 [label=\"X[2] <= 6.5\\ngini = 0.625\\nsamples = 4\\nvalue = [0, 0, 1, 0, 0, 1, 0, 0, 2, 0]\"] ;\n",
      "150 -> 152 ;\n",
      "153 [label=\"gini = 0.0\\nsamples = 2\\nvalue = [0, 0, 0, 0, 0, 0, 0, 0, 2, 0]\"] ;\n",
      "152 -> 153 ;\n",
      "154 [label=\"X[25] <= 3.5\\ngini = 0.5\\nsamples = 2\\nvalue = [0, 0, 1, 0, 0, 1, 0, 0, 0, 0]\"] ;\n",
      "152 -> 154 ;\n",
      "155 [label=\"gini = 0.0\\nsamples = 1\\nvalue = [0, 0, 1, 0, 0, 0, 0, 0, 0, 0]\"] ;\n",
      "154 -> 155 ;\n",
      "156 [label=\"gini = 0.0\\nsamples = 1\\nvalue = [0, 0, 0, 0, 0, 1, 0, 0, 0, 0]\"] ;\n",
      "154 -> 156 ;\n",
      "157 [label=\"gini = 0.0\\nsamples = 6\\nvalue = [0, 6, 0, 0, 0, 0, 0, 0, 0, 0]\"] ;\n",
      "147 -> 157 ;\n",
      "158 [label=\"X[33] <= 3.5\\ngini = 0.841\\nsamples = 811\\nvalue = [4, 128, 121, 157, 114, 8, 4, 12, 157, 106]\"] ;\n",
      "102 -> 158 ;\n",
      "159 [label=\"X[43] <= 1.5\\ngini = 0.808\\nsamples = 666\\nvalue = [2, 107, 120, 156, 4, 7, 1, 10, 154, 105]\"] ;\n",
      "158 -> 159 ;\n",
      "160 [label=\"X[29] <= 12.5\\ngini = 0.636\\nsamples = 281\\nvalue = [0, 19, 6, 138, 0, 7, 0, 0, 16, 95]\"] ;\n",
      "159 -> 160 ;\n",
      "161 [label=\"X[34] <= 3.5\\ngini = 0.342\\nsamples = 163\\nvalue = [0, 3, 2, 131, 0, 3, 0, 0, 14, 10]\"] ;\n",
      "160 -> 161 ;\n",
      "162 [label=\"X[26] <= 8.5\\ngini = 0.149\\nsamples = 140\\nvalue = [0, 1, 2, 129, 0, 3, 0, 0, 0, 5]\"] ;\n",
      "161 -> 162 ;\n",
      "163 [label=\"X[28] <= 7.5\\ngini = 0.073\\nsamples = 133\\nvalue = [0, 1, 2, 128, 0, 0, 0, 0, 0, 2]\"] ;\n",
      "162 -> 163 ;\n",
      "164 [label=\"gini = 0.0\\nsamples = 2\\nvalue = [0, 0, 2, 0, 0, 0, 0, 0, 0, 0]\"] ;\n",
      "163 -> 164 ;\n",
      "165 [label=\"X[19] <= 14.5\\ngini = 0.045\\nsamples = 131\\nvalue = [0, 1, 0, 128, 0, 0, 0, 0, 0, 2]\"] ;\n",
      "163 -> 165 ;\n",
      "166 [label=\"X[4] <= 7.5\\ngini = 0.015\\nsamples = 129\\nvalue = [0, 0, 0, 128, 0, 0, 0, 0, 0, 1]\"] ;\n",
      "165 -> 166 ;\n",
      "167 [label=\"X[20] <= 8.5\\ngini = 0.375\\nsamples = 4\\nvalue = [0, 0, 0, 3, 0, 0, 0, 0, 0, 1]\"] ;\n",
      "166 -> 167 ;\n",
      "168 [label=\"gini = 0.0\\nsamples = 1\\nvalue = [0, 0, 0, 0, 0, 0, 0, 0, 0, 1]\"] ;\n",
      "167 -> 168 ;\n",
      "169 [label=\"gini = 0.0\\nsamples = 3\\nvalue = [0, 0, 0, 3, 0, 0, 0, 0, 0, 0]\"] ;\n",
      "167 -> 169 ;\n",
      "170 [label=\"gini = 0.0\\nsamples = 125\\nvalue = [0, 0, 0, 125, 0, 0, 0, 0, 0, 0]\"] ;\n",
      "166 -> 170 ;\n",
      "171 [label=\"X[58] <= 5.0\\ngini = 0.5\\nsamples = 2\\nvalue = [0, 1, 0, 0, 0, 0, 0, 0, 0, 1]\"] ;\n",
      "165 -> 171 ;\n",
      "172 [label=\"gini = 0.0\\nsamples = 1\\nvalue = [0, 1, 0, 0, 0, 0, 0, 0, 0, 0]\"] ;\n",
      "171 -> 172 ;\n",
      "173 [label=\"gini = 0.0\\nsamples = 1\\nvalue = [0, 0, 0, 0, 0, 0, 0, 0, 0, 1]\"] ;\n",
      "171 -> 173 ;\n",
      "174 [label=\"X[34] <= 0.5\\ngini = 0.612\\nsamples = 7\\nvalue = [0, 0, 0, 1, 0, 3, 0, 0, 0, 3]\"] ;\n",
      "162 -> 174 ;\n",
      "175 [label=\"X[2] <= 6.0\\ngini = 0.375\\nsamples = 4\\nvalue = [0, 0, 0, 1, 0, 3, 0, 0, 0, 0]\"] ;\n",
      "174 -> 175 ;\n",
      "176 [label=\"gini = 0.0\\nsamples = 1\\nvalue = [0, 0, 0, 1, 0, 0, 0, 0, 0, 0]\"] ;\n",
      "175 -> 176 ;\n",
      "177 [label=\"gini = 0.0\\nsamples = 3\\nvalue = [0, 0, 0, 0, 0, 3, 0, 0, 0, 0]\"] ;\n",
      "175 -> 177 ;\n",
      "178 [label=\"gini = 0.0\\nsamples = 3\\nvalue = [0, 0, 0, 0, 0, 0, 0, 0, 0, 3]\"] ;\n",
      "174 -> 178 ;\n",
      "179 [label=\"X[42] <= 3.5\\ngini = 0.567\\nsamples = 23\\nvalue = [0, 2, 0, 2, 0, 0, 0, 0, 14, 5]\"] ;\n",
      "161 -> 179 ;\n",
      "180 [label=\"X[12] <= 13.5\\ngini = 0.593\\nsamples = 9\\nvalue = [0, 2, 0, 2, 0, 0, 0, 0, 0, 5]\"] ;\n",
      "179 -> 180 ;\n",
      "181 [label=\"gini = 0.0\\nsamples = 5\\nvalue = [0, 0, 0, 0, 0, 0, 0, 0, 0, 5]\"] ;\n",
      "180 -> 181 ;\n",
      "182 [label=\"X[1] <= 0.5\\ngini = 0.5\\nsamples = 4\\nvalue = [0, 2, 0, 2, 0, 0, 0, 0, 0, 0]\"] ;\n",
      "180 -> 182 ;\n",
      "183 [label=\"gini = 0.0\\nsamples = 2\\nvalue = [0, 2, 0, 0, 0, 0, 0, 0, 0, 0]\"] ;\n",
      "182 -> 183 ;\n",
      "184 [label=\"gini = 0.0\\nsamples = 2\\nvalue = [0, 0, 0, 2, 0, 0, 0, 0, 0, 0]\"] ;\n",
      "182 -> 184 ;\n",
      "185 [label=\"gini = 0.0\\nsamples = 14\\nvalue = [0, 0, 0, 0, 0, 0, 0, 0, 14, 0]\"] ;\n",
      "179 -> 185 ;\n",
      "186 [label=\"X[35] <= 1.5\\ngini = 0.457\\nsamples = 118\\nvalue = [0, 16, 4, 7, 0, 4, 0, 0, 2, 85]\"] ;\n",
      "160 -> 186 ;\n",
      "187 [label=\"X[3] <= 3.5\\ngini = 0.711\\nsamples = 40\\nvalue = [0, 15, 4, 4, 0, 3, 0, 0, 0, 14]\"] ;\n",
      "186 -> 187 ;\n",
      "188 [label=\"gini = 0.0\\nsamples = 15\\nvalue = [0, 15, 0, 0, 0, 0, 0, 0, 0, 0]\"] ;\n",
      "187 -> 188 ;\n",
      "189 [label=\"X[27] <= 7.5\\ngini = 0.621\\nsamples = 25\\nvalue = [0, 0, 4, 4, 0, 3, 0, 0, 0, 14]\"] ;\n",
      "187 -> 189 ;\n",
      "190 [label=\"X[46] <= 6.0\\ngini = 0.66\\nsamples = 10\\nvalue = [0, 0, 4, 4, 0, 1, 0, 0, 0, 1]\"] ;\n",
      "189 -> 190 ;\n",
      "191 [label=\"X[63] <= 1.5\\ngini = 0.5\\nsamples = 6\\nvalue = [0, 0, 4, 0, 0, 1, 0, 0, 0, 1]\"] ;\n",
      "190 -> 191 ;\n",
      "192 [label=\"X[19] <= 15.5\\ngini = 0.5\\nsamples = 2\\nvalue = [0, 0, 0, 0, 0, 1, 0, 0, 0, 1]\"] ;\n",
      "191 -> 192 ;\n",
      "193 [label=\"gini = 0.0\\nsamples = 1\\nvalue = [0, 0, 0, 0, 0, 0, 0, 0, 0, 1]\"] ;\n",
      "192 -> 193 ;\n",
      "194 [label=\"gini = 0.0\\nsamples = 1\\nvalue = [0, 0, 0, 0, 0, 1, 0, 0, 0, 0]\"] ;\n",
      "192 -> 194 ;\n",
      "195 [label=\"gini = 0.0\\nsamples = 4\\nvalue = [0, 0, 4, 0, 0, 0, 0, 0, 0, 0]\"] ;\n",
      "191 -> 195 ;\n",
      "196 [label=\"gini = 0.0\\nsamples = 4\\nvalue = [0, 0, 0, 4, 0, 0, 0, 0, 0, 0]\"] ;\n",
      "190 -> 196 ;\n",
      "197 [label=\"X[21] <= 4.5\\ngini = 0.231\\nsamples = 15\\nvalue = [0, 0, 0, 0, 0, 2, 0, 0, 0, 13]\"] ;\n",
      "189 -> 197 ;\n",
      "198 [label=\"gini = 0.0\\nsamples = 2\\nvalue = [0, 0, 0, 0, 0, 2, 0, 0, 0, 0]\"] ;\n",
      "197 -> 198 ;\n",
      "199 [label=\"gini = 0.0\\nsamples = 13\\nvalue = [0, 0, 0, 0, 0, 0, 0, 0, 0, 13]\"] ;\n",
      "197 -> 199 ;\n",
      "200 [label=\"X[26] <= 2.5\\ngini = 0.169\\nsamples = 78\\nvalue = [0, 1, 0, 3, 0, 1, 0, 0, 2, 71]\"] ;\n",
      "186 -> 200 ;\n",
      "201 [label=\"gini = 0.0\\nsamples = 3\\nvalue = [0, 0, 0, 3, 0, 0, 0, 0, 0, 0]\"] ;\n",
      "200 -> 201 ;\n",
      "202 [label=\"X[21] <= 10.5\\ngini = 0.103\\nsamples = 75\\nvalue = [0, 1, 0, 0, 0, 1, 0, 0, 2, 71]\"] ;\n",
      "200 -> 202 ;\n",
      "203 [label=\"X[51] <= 1.0\\ngini = 0.64\\nsamples = 5\\nvalue = [0, 0, 0, 0, 0, 1, 0, 0, 2, 2]\"] ;\n",
      "202 -> 203 ;\n",
      "204 [label=\"gini = 0.0\\nsamples = 2\\nvalue = [0, 0, 0, 0, 0, 0, 0, 0, 0, 2]\"] ;\n",
      "203 -> 204 ;\n",
      "205 [label=\"X[26] <= 15.5\\ngini = 0.444\\nsamples = 3\\nvalue = [0, 0, 0, 0, 0, 1, 0, 0, 2, 0]\"] ;\n",
      "203 -> 205 ;\n",
      "206 [label=\"gini = 0.0\\nsamples = 2\\nvalue = [0, 0, 0, 0, 0, 0, 0, 0, 2, 0]\"] ;\n",
      "205 -> 206 ;\n",
      "207 [label=\"gini = 0.0\\nsamples = 1\\nvalue = [0, 0, 0, 0, 0, 1, 0, 0, 0, 0]\"] ;\n",
      "205 -> 207 ;\n",
      "208 [label=\"X[11] <= 1.0\\ngini = 0.028\\nsamples = 70\\nvalue = [0, 1, 0, 0, 0, 0, 0, 0, 0, 69]\"] ;\n",
      "202 -> 208 ;\n",
      "209 [label=\"gini = 0.0\\nsamples = 1\\nvalue = [0, 1, 0, 0, 0, 0, 0, 0, 0, 0]\"] ;\n",
      "208 -> 209 ;\n",
      "210 [label=\"gini = 0.0\\nsamples = 69\\nvalue = [0, 0, 0, 0, 0, 0, 0, 0, 0, 69]\"] ;\n",
      "208 -> 210 ;\n",
      "211 [label=\"X[27] <= 7.5\\ngini = 0.728\\nsamples = 385\\nvalue = [2, 88, 114, 18, 4, 0, 1, 10, 138, 10]\"] ;\n",
      "159 -> 211 ;\n",
      "212 [label=\"X[34] <= 3.5\\ngini = 0.398\\nsamples = 121\\nvalue = [1, 2, 93, 2, 2, 0, 0, 7, 9, 5]\"] ;\n",
      "211 -> 212 ;\n",
      "213 [label=\"X[50] <= 0.5\\ngini = 0.121\\nsamples = 95\\nvalue = [0, 2, 89, 2, 0, 0, 0, 2, 0, 0]\"] ;\n",
      "212 -> 213 ;\n",
      "214 [label=\"X[29] <= 9.5\\ngini = 0.722\\nsamples = 6\\nvalue = [0, 2, 1, 1, 0, 0, 0, 2, 0, 0]\"] ;\n",
      "213 -> 214 ;\n",
      "215 [label=\"X[11] <= 12.5\\ngini = 0.625\\nsamples = 4\\nvalue = [0, 2, 1, 1, 0, 0, 0, 0, 0, 0]\"] ;\n",
      "214 -> 215 ;\n",
      "216 [label=\"X[61] <= 6.0\\ngini = 0.5\\nsamples = 2\\nvalue = [0, 0, 1, 1, 0, 0, 0, 0, 0, 0]\"] ;\n",
      "215 -> 216 ;\n",
      "217 [label=\"gini = 0.0\\nsamples = 1\\nvalue = [0, 0, 0, 1, 0, 0, 0, 0, 0, 0]\"] ;\n",
      "216 -> 217 ;\n",
      "218 [label=\"gini = 0.0\\nsamples = 1\\nvalue = [0, 0, 1, 0, 0, 0, 0, 0, 0, 0]\"] ;\n",
      "216 -> 218 ;\n",
      "219 [label=\"gini = 0.0\\nsamples = 2\\nvalue = [0, 2, 0, 0, 0, 0, 0, 0, 0, 0]\"] ;\n",
      "215 -> 219 ;\n",
      "220 [label=\"gini = 0.0\\nsamples = 2\\nvalue = [0, 0, 0, 0, 0, 0, 0, 2, 0, 0]\"] ;\n",
      "214 -> 220 ;\n",
      "221 [label=\"X[45] <= 14.0\\ngini = 0.022\\nsamples = 89\\nvalue = [0, 0, 88, 1, 0, 0, 0, 0, 0, 0]\"] ;\n",
      "213 -> 221 ;\n",
      "222 [label=\"gini = 0.0\\nsamples = 88\\nvalue = [0, 0, 88, 0, 0, 0, 0, 0, 0, 0]\"] ;\n",
      "221 -> 222 ;\n",
      "223 [label=\"gini = 0.0\\nsamples = 1\\nvalue = [0, 0, 0, 1, 0, 0, 0, 0, 0, 0]\"] ;\n",
      "221 -> 223 ;\n",
      "224 [label=\"X[37] <= 12.5\\ngini = 0.775\\nsamples = 26\\nvalue = [1, 0, 4, 0, 2, 0, 0, 5, 9, 5]\"] ;\n",
      "212 -> 224 ;\n",
      "225 [label=\"X[26] <= 4.5\\ngini = 0.375\\nsamples = 12\\nvalue = [0, 0, 3, 0, 0, 0, 0, 0, 9, 0]\"] ;\n",
      "224 -> 225 ;\n",
      "226 [label=\"gini = 0.0\\nsamples = 3\\nvalue = [0, 0, 3, 0, 0, 0, 0, 0, 0, 0]\"] ;\n",
      "225 -> 226 ;\n",
      "227 [label=\"gini = 0.0\\nsamples = 9\\nvalue = [0, 0, 0, 0, 0, 0, 0, 0, 9, 0]\"] ;\n",
      "225 -> 227 ;\n",
      "228 [label=\"X[44] <= 8.5\\ngini = 0.714\\nsamples = 14\\nvalue = [1, 0, 1, 0, 2, 0, 0, 5, 0, 5]\"] ;\n",
      "224 -> 228 ;\n",
      "229 [label=\"gini = 0.0\\nsamples = 5\\nvalue = [0, 0, 0, 0, 0, 0, 0, 0, 0, 5]\"] ;\n",
      "228 -> 229 ;\n",
      "230 [label=\"X[52] <= 14.0\\ngini = 0.617\\nsamples = 9\\nvalue = [1, 0, 1, 0, 2, 0, 0, 5, 0, 0]\"] ;\n",
      "228 -> 230 ;\n",
      "231 [label=\"gini = 0.0\\nsamples = 5\\nvalue = [0, 0, 0, 0, 0, 0, 0, 5, 0, 0]\"] ;\n",
      "230 -> 231 ;\n",
      "232 [label=\"X[18] <= 13.5\\ngini = 0.625\\nsamples = 4\\nvalue = [1, 0, 1, 0, 2, 0, 0, 0, 0, 0]\"] ;\n",
      "230 -> 232 ;\n",
      "233 [label=\"X[44] <= 15.0\\ngini = 0.5\\nsamples = 2\\nvalue = [1, 0, 1, 0, 0, 0, 0, 0, 0, 0]\"] ;\n",
      "232 -> 233 ;\n",
      "234 [label=\"gini = 0.0\\nsamples = 1\\nvalue = [0, 0, 1, 0, 0, 0, 0, 0, 0, 0]\"] ;\n",
      "233 -> 234 ;\n",
      "235 [label=\"gini = 0.0\\nsamples = 1\\nvalue = [1, 0, 0, 0, 0, 0, 0, 0, 0, 0]\"] ;\n",
      "233 -> 235 ;\n",
      "236 [label=\"gini = 0.0\\nsamples = 2\\nvalue = [0, 0, 0, 0, 2, 0, 0, 0, 0, 0]\"] ;\n",
      "232 -> 236 ;\n",
      "237 [label=\"X[20] <= 15.5\\ngini = 0.645\\nsamples = 264\\nvalue = [1, 86, 21, 16, 2, 0, 1, 3, 129, 5]\"] ;\n",
      "211 -> 237 ;\n",
      "238 [label=\"X[18] <= 2.5\\ngini = 0.357\\nsamples = 147\\nvalue = [1, 5, 4, 11, 0, 0, 1, 3, 117, 5]\"] ;\n",
      "237 -> 238 ;\n",
      "239 [label=\"X[58] <= 4.0\\ngini = 0.773\\nsamples = 16\\nvalue = [0, 2, 2, 6, 0, 0, 1, 2, 3, 0]\"] ;\n",
      "238 -> 239 ;\n",
      "240 [label=\"X[12] <= 9.5\\ngini = 0.719\\nsamples = 8\\nvalue = [0, 2, 0, 0, 0, 0, 1, 2, 3, 0]\"] ;\n",
      "239 -> 240 ;\n",
      "241 [label=\"gini = 0.0\\nsamples = 3\\nvalue = [0, 0, 0, 0, 0, 0, 0, 0, 3, 0]\"] ;\n",
      "240 -> 241 ;\n",
      "242 [label=\"X[5] <= 0.5\\ngini = 0.64\\nsamples = 5\\nvalue = [0, 2, 0, 0, 0, 0, 1, 2, 0, 0]\"] ;\n",
      "240 -> 242 ;\n",
      "243 [label=\"gini = 0.0\\nsamples = 2\\nvalue = [0, 2, 0, 0, 0, 0, 0, 0, 0, 0]\"] ;\n",
      "242 -> 243 ;\n",
      "244 [label=\"X[62] <= 5.0\\ngini = 0.444\\nsamples = 3\\nvalue = [0, 0, 0, 0, 0, 0, 1, 2, 0, 0]\"] ;\n",
      "242 -> 244 ;\n",
      "245 [label=\"gini = 0.0\\nsamples = 2\\nvalue = [0, 0, 0, 0, 0, 0, 0, 2, 0, 0]\"] ;\n",
      "244 -> 245 ;\n",
      "246 [label=\"gini = 0.0\\nsamples = 1\\nvalue = [0, 0, 0, 0, 0, 0, 1, 0, 0, 0]\"] ;\n",
      "244 -> 246 ;\n",
      "247 [label=\"X[21] <= 6.0\\ngini = 0.375\\nsamples = 8\\nvalue = [0, 0, 2, 6, 0, 0, 0, 0, 0, 0]\"] ;\n",
      "239 -> 247 ;\n",
      "248 [label=\"gini = 0.0\\nsamples = 2\\nvalue = [0, 0, 2, 0, 0, 0, 0, 0, 0, 0]\"] ;\n",
      "247 -> 248 ;\n",
      "249 [label=\"gini = 0.0\\nsamples = 6\\nvalue = [0, 0, 0, 6, 0, 0, 0, 0, 0, 0]\"] ;\n",
      "247 -> 249 ;\n",
      "250 [label=\"X[38] <= 3.5\\ngini = 0.239\\nsamples = 131\\nvalue = [1, 3, 2, 5, 0, 0, 0, 1, 114, 5]\"] ;\n",
      "238 -> 250 ;\n",
      "251 [label=\"X[21] <= 4.0\\ngini = 0.166\\nsamples = 125\\nvalue = [0, 3, 2, 3, 0, 0, 0, 0, 114, 3]\"] ;\n",
      "250 -> 251 ;\n",
      "252 [label=\"X[26] <= 7.5\\ngini = 0.48\\nsamples = 5\\nvalue = [0, 3, 0, 0, 0, 0, 0, 0, 2, 0]\"] ;\n",
      "251 -> 252 ;\n",
      "253 [label=\"gini = 0.0\\nsamples = 2\\nvalue = [0, 0, 0, 0, 0, 0, 0, 0, 2, 0]\"] ;\n",
      "252 -> 253 ;\n",
      "254 [label=\"gini = 0.0\\nsamples = 3\\nvalue = [0, 3, 0, 0, 0, 0, 0, 0, 0, 0]\"] ;\n",
      "252 -> 254 ;\n",
      "255 [label=\"X[50] <= 2.5\\ngini = 0.127\\nsamples = 120\\nvalue = [0, 0, 2, 3, 0, 0, 0, 0, 112, 3]\"] ;\n",
      "251 -> 255 ;\n",
      "256 [label=\"X[51] <= 9.5\\ngini = 0.498\\nsamples = 15\\nvalue = [0, 0, 0, 2, 0, 0, 0, 0, 10, 3]\"] ;\n",
      "255 -> 256 ;\n",
      "257 [label=\"X[53] <= 13.0\\ngini = 0.48\\nsamples = 5\\nvalue = [0, 0, 0, 2, 0, 0, 0, 0, 0, 3]\"] ;\n",
      "256 -> 257 ;\n",
      "258 [label=\"gini = 0.0\\nsamples = 3\\nvalue = [0, 0, 0, 0, 0, 0, 0, 0, 0, 3]\"] ;\n",
      "257 -> 258 ;\n",
      "259 [label=\"gini = 0.0\\nsamples = 2\\nvalue = [0, 0, 0, 2, 0, 0, 0, 0, 0, 0]\"] ;\n",
      "257 -> 259 ;\n",
      "260 [label=\"gini = 0.0\\nsamples = 10\\nvalue = [0, 0, 0, 0, 0, 0, 0, 0, 10, 0]\"] ;\n",
      "256 -> 260 ;\n",
      "261 [label=\"X[35] <= 5.0\\ngini = 0.056\\nsamples = 105\\nvalue = [0, 0, 2, 1, 0, 0, 0, 0, 102, 0]\"] ;\n",
      "255 -> 261 ;\n",
      "262 [label=\"gini = 0.0\\nsamples = 1\\nvalue = [0, 0, 0, 1, 0, 0, 0, 0, 0, 0]\"] ;\n",
      "261 -> 262 ;\n",
      "263 [label=\"X[27] <= 8.5\\ngini = 0.038\\nsamples = 104\\nvalue = [0, 0, 2, 0, 0, 0, 0, 0, 102, 0]\"] ;\n",
      "261 -> 263 ;\n",
      "264 [label=\"X[3] <= 15.0\\ngini = 0.5\\nsamples = 2\\nvalue = [0, 0, 1, 0, 0, 0, 0, 0, 1, 0]\"] ;\n",
      "263 -> 264 ;\n",
      "265 [label=\"gini = 0.0\\nsamples = 1\\nvalue = [0, 0, 0, 0, 0, 0, 0, 0, 1, 0]\"] ;\n",
      "264 -> 265 ;\n",
      "266 [label=\"gini = 0.0\\nsamples = 1\\nvalue = [0, 0, 1, 0, 0, 0, 0, 0, 0, 0]\"] ;\n",
      "264 -> 266 ;\n",
      "267 [label=\"X[36] <= 4.5\\ngini = 0.019\\nsamples = 102\\nvalue = [0, 0, 1, 0, 0, 0, 0, 0, 101, 0]\"] ;\n",
      "263 -> 267 ;\n",
      "268 [label=\"X[60] <= 13.0\\ngini = 0.444\\nsamples = 3\\nvalue = [0, 0, 1, 0, 0, 0, 0, 0, 2, 0]\"] ;\n",
      "267 -> 268 ;\n",
      "269 [label=\"gini = 0.0\\nsamples = 2\\nvalue = [0, 0, 0, 0, 0, 0, 0, 0, 2, 0]\"] ;\n",
      "268 -> 269 ;\n",
      "270 [label=\"gini = 0.0\\nsamples = 1\\nvalue = [0, 0, 1, 0, 0, 0, 0, 0, 0, 0]\"] ;\n",
      "268 -> 270 ;\n",
      "271 [label=\"gini = 0.0\\nsamples = 99\\nvalue = [0, 0, 0, 0, 0, 0, 0, 0, 99, 0]\"] ;\n",
      "267 -> 271 ;\n",
      "272 [label=\"X[37] <= 13.0\\ngini = 0.722\\nsamples = 6\\nvalue = [1, 0, 0, 2, 0, 0, 0, 1, 0, 2]\"] ;\n",
      "250 -> 272 ;\n",
      "273 [label=\"gini = 0.0\\nsamples = 2\\nvalue = [0, 0, 0, 0, 0, 0, 0, 0, 0, 2]\"] ;\n",
      "272 -> 273 ;\n",
      "274 [label=\"X[46] <= 4.5\\ngini = 0.625\\nsamples = 4\\nvalue = [1, 0, 0, 2, 0, 0, 0, 1, 0, 0]\"] ;\n",
      "272 -> 274 ;\n",
      "275 [label=\"X[34] <= 14.0\\ngini = 0.5\\nsamples = 2\\nvalue = [1, 0, 0, 0, 0, 0, 0, 1, 0, 0]\"] ;\n",
      "274 -> 275 ;\n",
      "276 [label=\"gini = 0.0\\nsamples = 1\\nvalue = [0, 0, 0, 0, 0, 0, 0, 1, 0, 0]\"] ;\n",
      "275 -> 276 ;\n",
      "277 [label=\"gini = 0.0\\nsamples = 1\\nvalue = [1, 0, 0, 0, 0, 0, 0, 0, 0, 0]\"] ;\n",
      "275 -> 277 ;\n",
      "278 [label=\"gini = 0.0\\nsamples = 2\\nvalue = [0, 0, 0, 2, 0, 0, 0, 0, 0, 0]\"] ;\n",
      "274 -> 278 ;\n",
      "279 [label=\"X[44] <= 6.5\\ngini = 0.487\\nsamples = 117\\nvalue = [0, 81, 17, 5, 2, 0, 0, 0, 12, 0]\"] ;\n",
      "237 -> 279 ;\n",
      "280 [label=\"X[3] <= 13.5\\ngini = 0.265\\nsamples = 20\\nvalue = [0, 0, 17, 1, 0, 0, 0, 0, 2, 0]\"] ;\n",
      "279 -> 280 ;\n",
      "281 [label=\"X[42] <= 6.5\\ngini = 0.444\\nsamples = 3\\nvalue = [0, 0, 0, 1, 0, 0, 0, 0, 2, 0]\"] ;\n",
      "280 -> 281 ;\n",
      "282 [label=\"gini = 0.0\\nsamples = 1\\nvalue = [0, 0, 0, 1, 0, 0, 0, 0, 0, 0]\"] ;\n",
      "281 -> 282 ;\n",
      "283 [label=\"gini = 0.0\\nsamples = 2\\nvalue = [0, 0, 0, 0, 0, 0, 0, 0, 2, 0]\"] ;\n",
      "281 -> 283 ;\n",
      "284 [label=\"gini = 0.0\\nsamples = 17\\nvalue = [0, 0, 17, 0, 0, 0, 0, 0, 0, 0]\"] ;\n",
      "280 -> 284 ;\n",
      "285 [label=\"X[10] <= 13.5\\ngini = 0.29\\nsamples = 97\\nvalue = [0, 81, 0, 4, 2, 0, 0, 0, 10, 0]\"] ;\n",
      "279 -> 285 ;\n",
      "286 [label=\"X[52] <= 9.0\\ngini = 0.186\\nsamples = 90\\nvalue = [0, 81, 0, 2, 2, 0, 0, 0, 5, 0]\"] ;\n",
      "285 -> 286 ;\n",
      "287 [label=\"X[18] <= 2.5\\ngini = 0.56\\nsamples = 5\\nvalue = [0, 1, 0, 1, 0, 0, 0, 0, 3, 0]\"] ;\n",
      "286 -> 287 ;\n",
      "288 [label=\"gini = 0.0\\nsamples = 1\\nvalue = [0, 1, 0, 0, 0, 0, 0, 0, 0, 0]\"] ;\n",
      "287 -> 288 ;\n",
      "289 [label=\"X[9] <= 4.0\\ngini = 0.375\\nsamples = 4\\nvalue = [0, 0, 0, 1, 0, 0, 0, 0, 3, 0]\"] ;\n",
      "287 -> 289 ;\n",
      "290 [label=\"gini = 0.0\\nsamples = 3\\nvalue = [0, 0, 0, 0, 0, 0, 0, 0, 3, 0]\"] ;\n",
      "289 -> 290 ;\n",
      "291 [label=\"gini = 0.0\\nsamples = 1\\nvalue = [0, 0, 0, 1, 0, 0, 0, 0, 0, 0]\"] ;\n",
      "289 -> 291 ;\n",
      "292 [label=\"X[41] <= 7.5\\ngini = 0.113\\nsamples = 85\\nvalue = [0, 80, 0, 1, 2, 0, 0, 0, 2, 0]\"] ;\n",
      "286 -> 292 ;\n",
      "293 [label=\"X[19] <= 5.5\\ngini = 0.07\\nsamples = 83\\nvalue = [0, 80, 0, 1, 0, 0, 0, 0, 2, 0]\"] ;\n",
      "292 -> 293 ;\n",
      "294 [label=\"gini = 0.0\\nsamples = 1\\nvalue = [0, 0, 0, 1, 0, 0, 0, 0, 0, 0]\"] ;\n",
      "293 -> 294 ;\n",
      "295 [label=\"X[36] <= 7.0\\ngini = 0.048\\nsamples = 82\\nvalue = [0, 80, 0, 0, 0, 0, 0, 0, 2, 0]\"] ;\n",
      "293 -> 295 ;\n",
      "296 [label=\"gini = 0.0\\nsamples = 1\\nvalue = [0, 0, 0, 0, 0, 0, 0, 0, 1, 0]\"] ;\n",
      "295 -> 296 ;\n",
      "297 [label=\"X[12] <= 9.0\\ngini = 0.024\\nsamples = 81\\nvalue = [0, 80, 0, 0, 0, 0, 0, 0, 1, 0]\"] ;\n",
      "295 -> 297 ;\n",
      "298 [label=\"X[34] <= 6.5\\ngini = 0.5\\nsamples = 2\\nvalue = [0, 1, 0, 0, 0, 0, 0, 0, 1, 0]\"] ;\n",
      "297 -> 298 ;\n",
      "299 [label=\"gini = 0.0\\nsamples = 1\\nvalue = [0, 0, 0, 0, 0, 0, 0, 0, 1, 0]\"] ;\n",
      "298 -> 299 ;\n",
      "300 [label=\"gini = 0.0\\nsamples = 1\\nvalue = [0, 1, 0, 0, 0, 0, 0, 0, 0, 0]\"] ;\n",
      "298 -> 300 ;\n",
      "301 [label=\"gini = 0.0\\nsamples = 79\\nvalue = [0, 79, 0, 0, 0, 0, 0, 0, 0, 0]\"] ;\n",
      "297 -> 301 ;\n",
      "302 [label=\"gini = 0.0\\nsamples = 2\\nvalue = [0, 0, 0, 0, 2, 0, 0, 0, 0, 0]\"] ;\n",
      "292 -> 302 ;\n",
      "303 [label=\"X[18] <= 7.0\\ngini = 0.408\\nsamples = 7\\nvalue = [0, 0, 0, 2, 0, 0, 0, 0, 5, 0]\"] ;\n",
      "285 -> 303 ;\n",
      "304 [label=\"gini = 0.0\\nsamples = 2\\nvalue = [0, 0, 0, 2, 0, 0, 0, 0, 0, 0]\"] ;\n",
      "303 -> 304 ;\n",
      "305 [label=\"gini = 0.0\\nsamples = 5\\nvalue = [0, 0, 0, 0, 0, 0, 0, 0, 5, 0]\"] ;\n",
      "303 -> 305 ;\n",
      "306 [label=\"X[13] <= 9.5\\ngini = 0.402\\nsamples = 145\\nvalue = [2, 21, 1, 1, 110, 1, 3, 2, 3, 1]\"] ;\n",
      "158 -> 306 ;\n",
      "307 [label=\"X[10] <= 10.0\\ngini = 0.088\\nsamples = 110\\nvalue = [0, 3, 0, 0, 105, 0, 1, 0, 0, 1]\"] ;\n",
      "306 -> 307 ;\n",
      "308 [label=\"X[37] <= 3.5\\ngini = 0.037\\nsamples = 107\\nvalue = [0, 1, 0, 0, 105, 0, 0, 0, 0, 1]\"] ;\n",
      "307 -> 308 ;\n",
      "309 [label=\"gini = 0.0\\nsamples = 1\\nvalue = [0, 1, 0, 0, 0, 0, 0, 0, 0, 0]\"] ;\n",
      "308 -> 309 ;\n",
      "310 [label=\"X[5] <= 12.5\\ngini = 0.019\\nsamples = 106\\nvalue = [0, 0, 0, 0, 105, 0, 0, 0, 0, 1]\"] ;\n",
      "308 -> 310 ;\n",
      "311 [label=\"gini = 0.0\\nsamples = 105\\nvalue = [0, 0, 0, 0, 105, 0, 0, 0, 0, 0]\"] ;\n",
      "310 -> 311 ;\n",
      "312 [label=\"gini = 0.0\\nsamples = 1\\nvalue = [0, 0, 0, 0, 0, 0, 0, 0, 0, 1]\"] ;\n",
      "310 -> 312 ;\n",
      "313 [label=\"X[60] <= 12.0\\ngini = 0.444\\nsamples = 3\\nvalue = [0, 2, 0, 0, 0, 0, 1, 0, 0, 0]\"] ;\n",
      "307 -> 313 ;\n",
      "314 [label=\"gini = 0.0\\nsamples = 2\\nvalue = [0, 2, 0, 0, 0, 0, 0, 0, 0, 0]\"] ;\n",
      "313 -> 314 ;\n",
      "315 [label=\"gini = 0.0\\nsamples = 1\\nvalue = [0, 0, 0, 0, 0, 0, 1, 0, 0, 0]\"] ;\n",
      "313 -> 315 ;\n",
      "316 [label=\"X[27] <= 14.5\\ngini = 0.696\\nsamples = 35\\nvalue = [2, 18, 1, 1, 5, 1, 2, 2, 3, 0]\"] ;\n",
      "306 -> 316 ;\n",
      "317 [label=\"X[20] <= 4.5\\ngini = 0.836\\nsamples = 16\\nvalue = [2, 1, 1, 1, 5, 1, 2, 2, 1, 0]\"] ;\n",
      "316 -> 317 ;\n",
      "318 [label=\"X[36] <= 6.0\\ngini = 0.815\\nsamples = 9\\nvalue = [2, 0, 1, 1, 0, 0, 2, 2, 1, 0]\"] ;\n",
      "317 -> 318 ;\n",
      "319 [label=\"gini = 0.0\\nsamples = 2\\nvalue = [2, 0, 0, 0, 0, 0, 0, 0, 0, 0]\"] ;\n",
      "318 -> 319 ;\n",
      "320 [label=\"X[18] <= 14.0\\ngini = 0.776\\nsamples = 7\\nvalue = [0, 0, 1, 1, 0, 0, 2, 2, 1, 0]\"] ;\n",
      "318 -> 320 ;\n",
      "321 [label=\"X[41] <= 2.5\\ngini = 0.72\\nsamples = 5\\nvalue = [0, 0, 1, 1, 0, 0, 0, 2, 1, 0]\"] ;\n",
      "320 -> 321 ;\n",
      "322 [label=\"gini = 0.0\\nsamples = 2\\nvalue = [0, 0, 0, 0, 0, 0, 0, 2, 0, 0]\"] ;\n",
      "321 -> 322 ;\n",
      "323 [label=\"X[6] <= 1.5\\ngini = 0.667\\nsamples = 3\\nvalue = [0, 0, 1, 1, 0, 0, 0, 0, 1, 0]\"] ;\n",
      "321 -> 323 ;\n",
      "324 [label=\"X[62] <= 4.5\\ngini = 0.5\\nsamples = 2\\nvalue = [0, 0, 0, 1, 0, 0, 0, 0, 1, 0]\"] ;\n",
      "323 -> 324 ;\n",
      "325 [label=\"gini = 0.0\\nsamples = 1\\nvalue = [0, 0, 0, 0, 0, 0, 0, 0, 1, 0]\"] ;\n",
      "324 -> 325 ;\n",
      "326 [label=\"gini = 0.0\\nsamples = 1\\nvalue = [0, 0, 0, 1, 0, 0, 0, 0, 0, 0]\"] ;\n",
      "324 -> 326 ;\n",
      "327 [label=\"gini = 0.0\\nsamples = 1\\nvalue = [0, 0, 1, 0, 0, 0, 0, 0, 0, 0]\"] ;\n",
      "323 -> 327 ;\n",
      "328 [label=\"gini = 0.0\\nsamples = 2\\nvalue = [0, 0, 0, 0, 0, 0, 2, 0, 0, 0]\"] ;\n",
      "320 -> 328 ;\n",
      "329 [label=\"X[35] <= 10.0\\ngini = 0.449\\nsamples = 7\\nvalue = [0, 1, 0, 0, 5, 1, 0, 0, 0, 0]\"] ;\n",
      "317 -> 329 ;\n",
      "330 [label=\"X[43] <= 3.0\\ngini = 0.5\\nsamples = 2\\nvalue = [0, 1, 0, 0, 0, 1, 0, 0, 0, 0]\"] ;\n",
      "329 -> 330 ;\n",
      "331 [label=\"gini = 0.0\\nsamples = 1\\nvalue = [0, 0, 0, 0, 0, 1, 0, 0, 0, 0]\"] ;\n",
      "330 -> 331 ;\n",
      "332 [label=\"gini = 0.0\\nsamples = 1\\nvalue = [0, 1, 0, 0, 0, 0, 0, 0, 0, 0]\"] ;\n",
      "330 -> 332 ;\n",
      "333 [label=\"gini = 0.0\\nsamples = 5\\nvalue = [0, 0, 0, 0, 5, 0, 0, 0, 0, 0]\"] ;\n",
      "329 -> 333 ;\n",
      "334 [label=\"X[12] <= 11.0\\ngini = 0.188\\nsamples = 19\\nvalue = [0, 17, 0, 0, 0, 0, 0, 0, 2, 0]\"] ;\n",
      "316 -> 334 ;\n",
      "335 [label=\"gini = 0.0\\nsamples = 2\\nvalue = [0, 0, 0, 0, 0, 0, 0, 0, 2, 0]\"] ;\n",
      "334 -> 335 ;\n",
      "336 [label=\"gini = 0.0\\nsamples = 17\\nvalue = [0, 17, 0, 0, 0, 0, 0, 0, 0, 0]\"] ;\n",
      "334 -> 336 ;\n",
      "}\n"
     ]
    }
   ],
   "source": [
    "from sklearn.tree import export_graphviz\n",
    "print(export_graphviz(clf))"
   ]
  },
  {
   "cell_type": "code",
   "execution_count": 25,
   "metadata": {},
   "outputs": [],
   "source": [
    "from sklearn.model_selection import train_test_split\n"
   ]
  },
  {
   "cell_type": "code",
   "execution_count": 17,
   "metadata": {},
   "outputs": [],
   "source": [
    "x_train, x_test, y_train, y_test = train_test_split(x, y, test_size = 0.3)"
   ]
  },
  {
   "cell_type": "code",
   "execution_count": 18,
   "metadata": {},
   "outputs": [
    {
     "name": "stdout",
     "output_type": "stream",
     "text": [
      "1257 540\n"
     ]
    }
   ],
   "source": [
    "print(len(x_train), len(x_test))"
   ]
  },
  {
   "cell_type": "code",
   "execution_count": 33,
   "metadata": {
    "scrolled": false
   },
   "outputs": [
    {
     "data": {
      "text/plain": [
       "DecisionTreeClassifier(class_weight=None, criterion='gini', max_depth=None,\n",
       "                       max_features=None, max_leaf_nodes=None,\n",
       "                       min_impurity_decrease=0.0, min_impurity_split=None,\n",
       "                       min_samples_leaf=1, min_samples_split=2,\n",
       "                       min_weight_fraction_leaf=0.0, presort=False,\n",
       "                       random_state=None, splitter='best')"
      ]
     },
     "execution_count": 33,
     "metadata": {},
     "output_type": "execute_result"
    }
   ],
   "source": [
    "clf.fit(x_train, y_train)"
   ]
  },
  {
   "cell_type": "code",
   "execution_count": 28,
   "metadata": {},
   "outputs": [],
   "source": [
    "from sklearn.metrics import accuracy_score"
   ]
  },
  {
   "cell_type": "code",
   "execution_count": 35,
   "metadata": {},
   "outputs": [],
   "source": [
    "y_pred = clf.predict(x_test)"
   ]
  },
  {
   "cell_type": "code",
   "execution_count": 31,
   "metadata": {},
   "outputs": [
    {
     "data": {
      "text/plain": [
       "0.8351851851851851"
      ]
     },
     "execution_count": 31,
     "metadata": {},
     "output_type": "execute_result"
    }
   ],
   "source": [
    "accuracy_score(y_test, y_pred)"
   ]
  },
  {
   "cell_type": "code",
   "execution_count": null,
   "metadata": {},
   "outputs": [],
   "source": []
  }
 ],
 "metadata": {
  "kernelspec": {
   "display_name": "Python 3",
   "language": "python",
   "name": "python3"
  },
  "language_info": {
   "codemirror_mode": {
    "name": "ipython",
    "version": 3
   },
   "file_extension": ".py",
   "mimetype": "text/x-python",
   "name": "python",
   "nbconvert_exporter": "python",
   "pygments_lexer": "ipython3",
   "version": "3.7.5"
  }
 },
 "nbformat": 4,
 "nbformat_minor": 2
}
